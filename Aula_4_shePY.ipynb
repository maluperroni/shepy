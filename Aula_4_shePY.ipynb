{
  "nbformat": 4,
  "nbformat_minor": 0,
  "metadata": {
    "colab": {
      "name": "Aula 4- shePY.ipynb",
      "provenance": [],
      "authorship_tag": "ABX9TyN+T7bSZh7RMnoeMA2lc7qe",
      "include_colab_link": true
    },
    "kernelspec": {
      "name": "python3",
      "display_name": "Python 3"
    },
    "language_info": {
      "name": "python"
    }
  },
  "cells": [
    {
      "cell_type": "markdown",
      "metadata": {
        "id": "view-in-github",
        "colab_type": "text"
      },
      "source": [
        "<a href=\"https://colab.research.google.com/github/maluperroni/shepy/blob/main/Aula_4_shePY.ipynb\" target=\"_parent\"><img src=\"https://colab.research.google.com/assets/colab-badge.svg\" alt=\"Open In Colab\"/></a>"
      ]
    },
    {
      "cell_type": "markdown",
      "metadata": {
        "id": "qEpC3whyQW5g"
      },
      "source": [
        "#Aula 4 - shePY\n",
        "##NumPY \n",
        " É uma poderosa biblioteca (Numerical Python) que suporta arrays e matrizes e muito importante para processamento númerico em Python. Utilizados em tarefas matemáticas, visão computacional, e modelos de marchine learning.\n",
        "\n",
        " Alguns recursos do Numpy:\n",
        "- ndarray: um array multidimensional eficaz que oferece operações rápidas;\n",
        "- funções matemáticas para operações rápidas em arrays de dados, sem que haja necessidade de escrever laços;\n",
        "\n",
        "Em **Python**, arrays são estruturas de dados semelhantes às listas, mas não tão flexíveis, pois possuem um tamanho fixo informado no momento em que são inicializados. O array usa menos memória do que a lista, é mais rápido nas operações de leitura e possibilita executar operações matemáticas sobre todos os itens de uma só vez."
      ]
    },
    {
      "cell_type": "markdown",
      "metadata": {
        "id": "h6inqp-vpteH"
      },
      "source": [
        "### Criando arrays com Numpy:\n"
      ]
    },
    {
      "cell_type": "markdown",
      "metadata": {
        "id": "fSRsoOTUrDaf"
      },
      "source": [
        "**Arrays de 1 dimensão:**"
      ]
    },
    {
      "cell_type": "code",
      "metadata": {
        "colab": {
          "base_uri": "https://localhost:8080/"
        },
        "id": "Ts6wZuykrEPP",
        "outputId": "2d151a70-92f4-47ba-a3b9-bc54359d9621"
      },
      "source": [
        "import numpy as np\n",
        "\n",
        "#criando um array apartir de uma lista\n",
        "mylist =[1,2,3]\n",
        "myarray= np.array(mylist)\n",
        "myarray"
      ],
      "execution_count": null,
      "outputs": [
        {
          "output_type": "execute_result",
          "data": {
            "text/plain": [
              "array([1, 2, 3])"
            ]
          },
          "metadata": {
            "tags": []
          },
          "execution_count": 1
        }
      ]
    },
    {
      "cell_type": "code",
      "metadata": {
        "colab": {
          "base_uri": "https://localhost:8080/"
        },
        "id": "qvPYbfBUr24o",
        "outputId": "dcbe1235-0544-4174-ac09-5d0281729ffd"
      },
      "source": [
        "#Criando um array com arange, sendo o intervalo de 0 a 10.\n",
        "\n",
        "a1d = np.arange(0,10)\n",
        "a1d"
      ],
      "execution_count": null,
      "outputs": [
        {
          "output_type": "execute_result",
          "data": {
            "text/plain": [
              "array([0, 1, 2, 3, 4, 5, 6, 7, 8, 9])"
            ]
          },
          "metadata": {
            "tags": []
          },
          "execution_count": 3
        }
      ]
    },
    {
      "cell_type": "code",
      "metadata": {
        "colab": {
          "base_uri": "https://localhost:8080/"
        },
        "id": "II7KHjWmsLF5",
        "outputId": "5a770d8a-6d65-4057-eb60-063e1f00c2a1"
      },
      "source": [
        "#Criando um array de zeros\n",
        "\n",
        "zeros= np.zeros(5)\n",
        "zeros"
      ],
      "execution_count": null,
      "outputs": [
        {
          "output_type": "execute_result",
          "data": {
            "text/plain": [
              "array([0., 0., 0., 0., 0.])"
            ]
          },
          "metadata": {
            "tags": []
          },
          "execution_count": 5
        }
      ]
    },
    {
      "cell_type": "markdown",
      "metadata": {
        "id": "jA4BOiGOtaLm"
      },
      "source": [
        "**Arrays de 2 dimensões:**"
      ]
    },
    {
      "cell_type": "code",
      "metadata": {
        "colab": {
          "base_uri": "https://localhost:8080/"
        },
        "id": "7NMs1X32tbkG",
        "outputId": "f89509ee-132e-4395-bf18-372794eef546"
      },
      "source": [
        "a2d = np.array([[1,2,3], [4,5,6], [7,8,9]])\n",
        "a2d"
      ],
      "execution_count": null,
      "outputs": [
        {
          "output_type": "execute_result",
          "data": {
            "text/plain": [
              "array([[1, 2, 3],\n",
              "       [4, 5, 6],\n",
              "       [7, 8, 9]])"
            ]
          },
          "metadata": {
            "tags": []
          },
          "execution_count": 6
        }
      ]
    },
    {
      "cell_type": "code",
      "metadata": {
        "colab": {
          "base_uri": "https://localhost:8080/"
        },
        "id": "saW_tqt_1YrW",
        "outputId": "0f24cf23-4791-4c6e-8c4d-d0b9659e590f"
      },
      "source": [
        "zeros2d= np.zeros(shape=(3,4)) # 3 linhas e 4 colunas \n",
        "zeros2d"
      ],
      "execution_count": null,
      "outputs": [
        {
          "output_type": "execute_result",
          "data": {
            "text/plain": [
              "array([[0., 0., 0., 0.],\n",
              "       [0., 0., 0., 0.],\n",
              "       [0., 0., 0., 0.]])"
            ]
          },
          "metadata": {
            "tags": []
          },
          "execution_count": 7
        }
      ]
    },
    {
      "cell_type": "markdown",
      "metadata": {
        "id": "WDkbIwHm1pk7"
      },
      "source": [
        "**Arrays de 3 dimensões:**"
      ]
    },
    {
      "cell_type": "code",
      "metadata": {
        "colab": {
          "base_uri": "https://localhost:8080/"
        },
        "id": "0ywi2BJi1wOf",
        "outputId": "78cf22ef-246a-4a70-945f-8290e09d5ec2"
      },
      "source": [
        "a3d = np.array ([ [ [1,2,3], [4,5,6], [7,8,9] ], [ [10,11,12], [14,15,16], [17,18,19] ], [ [20,21,22], [23,24,25], [26,27,28] ] ])\n",
        "a3d\n",
        "\n"
      ],
      "execution_count": null,
      "outputs": [
        {
          "output_type": "execute_result",
          "data": {
            "text/plain": [
              "array([[[ 1,  2,  3],\n",
              "        [ 4,  5,  6],\n",
              "        [ 7,  8,  9]],\n",
              "\n",
              "       [[10, 11, 12],\n",
              "        [14, 15, 16],\n",
              "        [17, 18, 19]],\n",
              "\n",
              "       [[20, 21, 22],\n",
              "        [23, 24, 25],\n",
              "        [26, 27, 28]]])"
            ]
          },
          "metadata": {
            "tags": []
          },
          "execution_count": 12
        }
      ]
    },
    {
      "cell_type": "code",
      "metadata": {
        "colab": {
          "base_uri": "https://localhost:8080/"
        },
        "id": "uU8wF1dg3orC",
        "outputId": "b389204e-3f08-4361-be4c-58d18feb3da9"
      },
      "source": [
        "zeros3d = np.zeros(shape=(3,4,2)) #3 páginas, 4 linhas e duas colunas\n",
        "zeros3d"
      ],
      "execution_count": null,
      "outputs": [
        {
          "output_type": "execute_result",
          "data": {
            "text/plain": [
              "array([[[0., 0.],\n",
              "        [0., 0.],\n",
              "        [0., 0.],\n",
              "        [0., 0.]],\n",
              "\n",
              "       [[0., 0.],\n",
              "        [0., 0.],\n",
              "        [0., 0.],\n",
              "        [0., 0.]],\n",
              "\n",
              "       [[0., 0.],\n",
              "        [0., 0.],\n",
              "        [0., 0.],\n",
              "        [0., 0.]]])"
            ]
          },
          "metadata": {
            "tags": []
          },
          "execution_count": 15
        }
      ]
    },
    {
      "cell_type": "markdown",
      "metadata": {
        "id": "j0hMMs-14PnX"
      },
      "source": [
        "## Comparação da performance do NumPy"
      ]
    },
    {
      "cell_type": "code",
      "metadata": {
        "colab": {
          "base_uri": "https://localhost:8080/"
        },
        "id": "7r-b8r_Z4Rkz",
        "outputId": "88e8bb6c-ede1-4e5d-9a5e-d8726b699014"
      },
      "source": [
        "idades = np.random.randint(50, size=1000)\n",
        "len(idades)"
      ],
      "execution_count": null,
      "outputs": [
        {
          "output_type": "execute_result",
          "data": {
            "text/plain": [
              "1000"
            ]
          },
          "metadata": {
            "tags": []
          },
          "execution_count": 16
        }
      ]
    },
    {
      "cell_type": "code",
      "metadata": {
        "colab": {
          "base_uri": "https://localhost:8080/"
        },
        "id": "DLwG9NGU4gYR",
        "outputId": "f06b7447-6add-46a0-c4c7-47153e288e56"
      },
      "source": [
        "%timeit sum(idades) # Somar as idades usando a função sum() do Python"
      ],
      "execution_count": null,
      "outputs": [
        {
          "output_type": "stream",
          "text": [
            "10000 loops, best of 5: 175 µs per loop\n"
          ],
          "name": "stdout"
        }
      ]
    },
    {
      "cell_type": "code",
      "metadata": {
        "colab": {
          "base_uri": "https://localhost:8080/"
        },
        "id": "CZO6kGkI41ky",
        "outputId": "f02c6666-dc29-4af3-879e-ce39c97b960d"
      },
      "source": [
        "%timeit np.sum(idades) # Somar as idades usando a função np.sum() do Numpy"
      ],
      "execution_count": null,
      "outputs": [
        {
          "output_type": "stream",
          "text": [
            "The slowest run took 781.17 times longer than the fastest. This could mean that an intermediate result is being cached.\n",
            "100000 loops, best of 5: 5.24 µs per loop\n"
          ],
          "name": "stdout"
        }
      ]
    },
    {
      "cell_type": "markdown",
      "metadata": {
        "id": "Bv71hO8p4_mO"
      },
      "source": [
        "## Introdução à Estatística básica\n",
        "\n"
      ]
    },
    {
      "cell_type": "markdown",
      "metadata": {
        "id": "p7n6qgXI5RFG"
      },
      "source": [
        "## População e amostra\n",
        "Uma população é um conjunto de pessoas, itens ou eventos sobre os quais você quer fazer inferências. Uma amostra é um subconjunto de uma população que se analisa para fazer inferências. \n",
        "\n",
        "## Tipos de Dados\n",
        "- Qualitativos: Consistem em atributos, qualidades, características.\n",
        "  - Nominais: Esses dados representam nomes, rótulos ou categorias que\n",
        "não têm ordem ou hierarquia.\n",
        "  - Ordinais: Esses dados mantêm uma relação de ordem.\n",
        "\n",
        "- Quantitativos: Consistem em medidas ou contagens numéricas.\n",
        "  - Discretos: Resultam de um conjunto finito ou enumerável de valores possíveis\n",
        "(Contagens)\n",
        "  - Contínuos: Resultam em um número infinito de valores possíveis (Mensurações)\n",
        "\n",
        "## Medidas de tendência central\n",
        "As medidas de **tendência central** mostram o valor representativo em torno do qual os dados tendem a agrupar-se, dão o ponto central em torno do qual os dados se distribuem.\n",
        "​\n",
        "- **Média**: A média de uma amostra é denotada por x barra e a média de uma população é denotada por µ. Para calcular a média de um conjunto de valores é necessário somar todos os valores obtidos e dividir por n (que representa o tamanho da amostra).\n",
        "​\n",
        "- **Mediana**: É o valor que divide o conjunto de dados ao meio, deixando os 50% menores valores de um lado e os 50% maiores valores do outro lado. Para calcular a mediana é necessário que o conjunto de dados esteja organizado em ordem crescente. Se n é ímpar, a mediana é dada pelo valor que ocupa a posição central. Se n é par, a mediana será a média dos valores que ocupam as posições centrais.\n",
        "​\n",
        "- **Moda**: Dado um conjunto de valores, a Moda desses valores será aquele que se repetir o maior número de vezes."
      ]
    },
    {
      "cell_type": "markdown",
      "metadata": {
        "id": "EMhxEq2F5xlw"
      },
      "source": [
        "## Medidas de dispersão/variabilidade\n",
        "As medidas de **dispersão** mostram o grau de afastamento dos valores observados em relação ao ponto central da distribuição dos dados.\n",
        "\n",
        "- **Amplitude:** É definida como sendo a diferença entre o maior e o menor valor do conjunto de dados.\n",
        "\n",
        "- **Variância e desvio padrão:** A variância e o desvio padrão medem a variação do conjunto de dados em torno da média. \n",
        "É possível perceber que a unidade de medida da variância equivale à unidade de medida dos dados ao quadrado. Dessa\n",
        "maneira, é mais comum trabalharmos com a raiz quadrada da variância, ou seja, com o desvio padrão.\n",
        "\n",
        "![](https://calculareconverter.com.br/wp-content/uploads/2018/08/formula-variancia.jpg)"
      ]
    },
    {
      "cell_type": "markdown",
      "metadata": {
        "id": "WscyEdId7zUT"
      },
      "source": [
        "## Medidas de posição relativa\n",
        "As medidas de **posição** relativa mostram pontos de corte na distribuição relativa dos dados da amostra.\n",
        "\n",
        "- **Quartis:** Assim como a mediana divide os dados em duas partes iguais, os três quartis, denotados por Q1, Q2 e Q3, dividem as observações ordenadas (dispostas em ordem crescente) em quatro partes aproximadamente iguais, ou seja, há cerca de 25% dos dados em cada grupo. \n",
        "\n",
        "- **Decis:** Analogamente, há nove decis, denotados por D1, D2, D3, ..., D9, que dividem os dados em 10 grupos com cerca de 10% dos dados em cada grupo.\n",
        "\n",
        "- **Percentis:** Há, finalmente, 99 percentis, que dividem os dados em 100 grupos com cerca de 1% dos dados em cada grupo.\n",
        "\n",
        "![](https://sondagenseestudosdeopiniao.files.wordpress.com/2011/10/est-descr-_quadro41.jpg?w=863)"
      ]
    },
    {
      "cell_type": "markdown",
      "metadata": {
        "id": "CUbrPp6V75U1"
      },
      "source": [
        "## EXERCÍCIOS:\n",
        "\n",
        "### Desafio 1: \n",
        "Uma professora está interessada em avaliar o tempo (em minutos) que os alunos demoram entre o início e a finalização de uma prova. Para isso, observou 12 alunos escolhidos aleatoriamente no sistema. Os dados encontram-se abaixo:\n",
        "\n",
        "- Tempo em minutos: 71, 73, 73, 74, 74, 75, 76, 77, 77, 79, 81, 83\n",
        "\n",
        "**Calcule a média, a mediana e a moda**"
      ]
    },
    {
      "cell_type": "code",
      "metadata": {
        "colab": {
          "base_uri": "https://localhost:8080/"
        },
        "id": "93X1OV_wBAY_",
        "outputId": "74dc7c7f-fbb5-47b8-b67b-3a774a01b265"
      },
      "source": [
        "import numpy as np\n",
        "tempo = np.array([71, 73, 73, 74, 74, 75, 76, 77, 77, 79, 81, 83])\n",
        "np.mean(tempo) #média\n"
      ],
      "execution_count": 5,
      "outputs": [
        {
          "output_type": "execute_result",
          "data": {
            "text/plain": [
              "76.08333333333333"
            ]
          },
          "metadata": {
            "tags": []
          },
          "execution_count": 5
        }
      ]
    },
    {
      "cell_type": "code",
      "metadata": {
        "colab": {
          "base_uri": "https://localhost:8080/"
        },
        "id": "1Z3Ok3CrE4G6",
        "outputId": "b5c43c5f-593f-41b7-f23e-32ba7eedf013"
      },
      "source": [
        "np.median(tempo) #mediana"
      ],
      "execution_count": 6,
      "outputs": [
        {
          "output_type": "execute_result",
          "data": {
            "text/plain": [
              "75.5"
            ]
          },
          "metadata": {
            "tags": []
          },
          "execution_count": 6
        }
      ]
    },
    {
      "cell_type": "code",
      "metadata": {
        "colab": {
          "base_uri": "https://localhost:8080/"
        },
        "id": "R3nwJtwOFB9A",
        "outputId": "c0d21794-10f0-4868-adba-352ea785e299"
      },
      "source": [
        "from scipy import stats #não tem função no numpy que saiba calcular a moda, por isso importamos outra lib\n",
        "stats.mode(tempo)"
      ],
      "execution_count": 7,
      "outputs": [
        {
          "output_type": "execute_result",
          "data": {
            "text/plain": [
              "ModeResult(mode=array([73]), count=array([2]))"
            ]
          },
          "metadata": {
            "tags": []
          },
          "execution_count": 7
        }
      ]
    },
    {
      "cell_type": "markdown",
      "metadata": {
        "id": "Pgti6BOo8Boi"
      },
      "source": [
        "### Desafio:\n",
        "Considere uma amostra de tempo em minutos que alunos gastam para chegar à uma escola:\n",
        "\n",
        "Amostra: 5, 12, 25, 43, 67\n",
        "\n",
        "Calcule:\n",
        "- A média\n",
        "- A variância\n",
        "- O desvio padrão"
      ]
    },
    {
      "cell_type": "code",
      "metadata": {
        "colab": {
          "base_uri": "https://localhost:8080/"
        },
        "id": "EkBaJ-5IGsPD",
        "outputId": "194b07eb-bebf-4205-e9c3-f2f802467ab8"
      },
      "source": [
        "tempo_escola = np.array([5, 12, 25, 43, 67])\n",
        "np.mean(tempo_escola)"
      ],
      "execution_count": 9,
      "outputs": [
        {
          "output_type": "execute_result",
          "data": {
            "text/plain": [
              "30.4"
            ]
          },
          "metadata": {
            "tags": []
          },
          "execution_count": 9
        }
      ]
    },
    {
      "cell_type": "code",
      "metadata": {
        "colab": {
          "base_uri": "https://localhost:8080/"
        },
        "id": "ynxhdnHwIYPi",
        "outputId": "0ab9923f-802d-4f5b-ad63-e2e45b993c39"
      },
      "source": [
        "np.var(tempo_escola,ddof=1)"
      ],
      "execution_count": 11,
      "outputs": [
        {
          "output_type": "execute_result",
          "data": {
            "text/plain": [
              "627.8"
            ]
          },
          "metadata": {
            "tags": []
          },
          "execution_count": 11
        }
      ]
    },
    {
      "cell_type": "code",
      "metadata": {
        "colab": {
          "base_uri": "https://localhost:8080/"
        },
        "id": "Ju4iTAwBJrju",
        "outputId": "98fc4cd0-1424-4a5a-f683-46a9bfa09c04"
      },
      "source": [
        "np.std(tempo_escola,ddof=1)"
      ],
      "execution_count": 15,
      "outputs": [
        {
          "output_type": "execute_result",
          "data": {
            "text/plain": [
              "25.055937420100648"
            ]
          },
          "metadata": {
            "tags": []
          },
          "execution_count": 15
        }
      ]
    },
    {
      "cell_type": "markdown",
      "metadata": {
        "id": "aIjSBFIu8XYz"
      },
      "source": [
        "## Box plot\n",
        "O Boxplot é um gráfico para representar dados quantitativos sendo conveniente\n",
        "para revelar medidas de tendência central, dispersão, distribuição dos dados e a\n",
        "presença de outliers (valores discrepantes). A construção de um diagrama em caixa\n",
        "exige que tenhamos o valor mínimo, o primeiro quartil (Q1), a mediana (ou segundo\n",
        "quartil Q2), o terceiro quartil (Q3), o valor máximo e a distância interquartílica (DIQ).\n",
        "\n",
        "- A distância interquartílica (DIQ) é obtida pela distância entre o terceiro e o primeiro quartil: **DIQ = Q3 - Q1.**\n",
        "\n",
        "Para identificar a presença de valores discrepantes na amostra deve-se, primeiramente, calcular as seguintes medidas: \n",
        "- **Q1 – 1,5xDIQ e Q3 + 1,5xDIQ.** Elas representam os limites para detecção de outliers."
      ]
    },
    {
      "cell_type": "code",
      "metadata": {
        "id": "pV9Mu021LjKG"
      },
      "source": [
        "data = np.array([18, 19, 21, 21, 21, 22, 22, 22, 23, 23, 24, 32])\n"
      ],
      "execution_count": 16,
      "outputs": []
    },
    {
      "cell_type": "code",
      "metadata": {
        "id": "Nl9blqtGLobP"
      },
      "source": [
        "import matplotlib.pyplot as plt"
      ],
      "execution_count": 17,
      "outputs": []
    },
    {
      "cell_type": "code",
      "metadata": {
        "colab": {
          "base_uri": "https://localhost:8080/",
          "height": 401
        },
        "id": "E0zyyyzULtGb",
        "outputId": "ec52ac7f-2722-4689-96da-68a26a9245a6"
      },
      "source": [
        "plt.boxplot(data)"
      ],
      "execution_count": 18,
      "outputs": [
        {
          "output_type": "execute_result",
          "data": {
            "text/plain": [
              "{'boxes': [<matplotlib.lines.Line2D at 0x7f67431df090>],\n",
              " 'caps': [<matplotlib.lines.Line2D at 0x7f67431ed3d0>,\n",
              "  <matplotlib.lines.Line2D at 0x7f67431edc50>],\n",
              " 'fliers': [<matplotlib.lines.Line2D at 0x7f67431e11d0>],\n",
              " 'means': [],\n",
              " 'medians': [<matplotlib.lines.Line2D at 0x7f67431f33d0>],\n",
              " 'whiskers': [<matplotlib.lines.Line2D at 0x7f67431e7ed0>,\n",
              "  <matplotlib.lines.Line2D at 0x7f67431eda50>]}"
            ]
          },
          "metadata": {
            "tags": []
          },
          "execution_count": 18
        },
        {
          "output_type": "display_data",
          "data": {
            "image/png": "[encoded data removed]",
            "text/plain": [
              "<Figure size 432x288 with 1 Axes>"
            ]
          },
          "metadata": {
            "tags": [],
            "needs_background": "light"
          }
        }
      ]
    }
  ]
}