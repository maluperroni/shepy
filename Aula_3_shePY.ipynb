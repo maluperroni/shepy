{
  "nbformat": 4,
  "nbformat_minor": 0,
  "metadata": {
    "colab": {
      "name": "Aula 3 - shePY.ipynb",
      "provenance": [],
      "authorship_tag": "ABX9TyOjgfqTUSbrBNY2LUXSdEYz",
      "include_colab_link": true
    },
    "kernelspec": {
      "name": "python3",
      "display_name": "Python 3"
    },
    "language_info": {
      "name": "python"
    }
  },
  "cells": [
    {
      "cell_type": "markdown",
      "metadata": {
        "id": "view-in-github",
        "colab_type": "text"
      },
      "source": [
        "<a href=\"https://colab.research.google.com/github/maluperroni/shepy/blob/main/Aula_3_shePY.ipynb\" target=\"_parent\"><img src=\"https://colab.research.google.com/assets/colab-badge.svg\" alt=\"Open In Colab\"/></a>"
      ]
    },
    {
      "cell_type": "markdown",
      "metadata": {
        "id": "xJReT_l-yWEb"
      },
      "source": [
        "#Estruturas condicioanis\n",
        "\n",
        "Quando programamos, muitas vezes precisamos que um bloco de código seja executado apenas se uma determinada condição for verdadeira. Nesse caso, devemos fazer o uso de estrutura de condição.\n",
        "\n",
        "**if:**\n",
        "\n",
        "If (se) é uma estrutura de condição que permite avaliar uma expressão e, de acordo com o seu resultado, execultar uma determinada ação.\n",
        "\n",
        "**else:**\n",
        "\n",
        "Caso a condição do if não seja atendida, definimos um fluxo alternativo que o código deve seguir. \n",
        "\n",
        "**elif:**\n",
        "\n",
        "Torna mais claro o tratamento de várias alternativas, encadeando condições.\n"
      ]
    },
    {
      "cell_type": "code",
      "metadata": {
        "colab": {
          "base_uri": "https://localhost:8080/"
        },
        "id": "cWb7Xk111KZe",
        "outputId": "04d0e1cb-0298-4e43-a660-f3ee118e2775"
      },
      "source": [
        "nota = int(input('Digite uma nota:'))\n",
        "if nota >= 8:\n",
        "  print('Aprovada satisfatoriamente')"
      ],
      "execution_count": null,
      "outputs": [
        {
          "output_type": "stream",
          "text": [
            "Digite uma nota:9\n",
            "Aprovada satisfatoriamente\n"
          ],
          "name": "stdout"
        }
      ]
    },
    {
      "cell_type": "code",
      "metadata": {
        "colab": {
          "base_uri": "https://localhost:8080/"
        },
        "id": "6kGysapc3oNB",
        "outputId": "d13b0fed-b413-450b-ace5-44531ee0bf72"
      },
      "source": [
        "nota = int(input('Digite uma nota:'))\n",
        "if nota >= 8:\n",
        "  print('Aprovada satisfatoriamente')\n",
        "else:\n",
        "  print('Não aprovada satisfatoriamente')"
      ],
      "execution_count": null,
      "outputs": [
        {
          "output_type": "stream",
          "text": [
            "Digite uma nota:6\n",
            "Não aprovada satisfatoriamente\n"
          ],
          "name": "stdout"
        }
      ]
    },
    {
      "cell_type": "code",
      "metadata": {
        "colab": {
          "base_uri": "https://localhost:8080/"
        },
        "id": "H6Yr4qv84q5z",
        "outputId": "d067f75b-0824-4276-d3ca-6cb7adbbb1c8"
      },
      "source": [
        "nota = int(input('Digite uma nota:'))\n",
        "if nota >= 8:\n",
        "  print('Aprovada satisfatoriamente.')\n",
        "elif nota == 7:\n",
        "  print('Aprovada.')\n",
        "\n",
        "else:\n",
        "  print('Não aprovada satisfatoriamente.')"
      ],
      "execution_count": null,
      "outputs": [
        {
          "output_type": "stream",
          "text": [
            "Digite uma nota:7\n",
            "Aprovada.\n"
          ],
          "name": "stdout"
        }
      ]
    },
    {
      "cell_type": "markdown",
      "metadata": {
        "id": "_ku7_LoZ6O5X"
      },
      "source": [
        "**Jogo de adivinhar**"
      ]
    },
    {
      "cell_type": "code",
      "metadata": {
        "colab": {
          "base_uri": "https://localhost:8080/"
        },
        "id": "bWfJt8Wj6dvn",
        "outputId": "1f336263-0b04-46ae-a467-e897f7933b57"
      },
      "source": [
        "from random import randint \n",
        "computador = randint (0,10)\n",
        "print('Vamos jogar um jogo. Tente adivinhar um número que estou pensando: de 0 a 10')\n",
        "\n",
        "jogador = int(input('Qual número eu pensei? '))\n",
        "if jogador == computador:\n",
        "  print('Você acertou!')\n",
        "else:\n",
        "  print('Você errou!')"
      ],
      "execution_count": null,
      "outputs": [
        {
          "output_type": "stream",
          "text": [
            "Vamos jogar um jogo. Tente adivinhar um número que estou pensando: de 0 a 10\n",
            "Qual número eu pensei? 9\n",
            "Você errou!\n"
          ],
          "name": "stdout"
        }
      ]
    },
    {
      "cell_type": "markdown",
      "metadata": {
        "id": "-hM2A2zF9pDp"
      },
      "source": [
        "**Desafio**\n",
        "\n",
        "Desenvolva um programa que pergunte a distância de uma viagem em Km. Calcule o preço da passagem, cobrando 0.60 reais por Km para viagens de até 100Km, cobrando 0.50 reais para viagens de até 300Km  e 0.40 reais para viagens mais longas."
      ]
    },
    {
      "cell_type": "code",
      "metadata": {
        "colab": {
          "base_uri": "https://localhost:8080/"
        },
        "id": "gpOVpA7g9to9",
        "outputId": "ef98ce44-8795-467c-85e8-7e06f890ccc6"
      },
      "source": [
        "km = float(input('Quantos km tem sua viagem: '))\n",
        "if km <= 100:\n",
        "  passagem = km*0.60\n",
        "  print('O preço da sua passagem será', passagem, 'reais')\n",
        "elif km <= 300:\n",
        "  passagem = km*0.50\n",
        "  print ('O preço da sua passagem será', passagem, 'reais')\n",
        "else:\n",
        "  passagem = km*0.40\n",
        "  print ('O preço da sua passagem será', passagem, 'reais')"
      ],
      "execution_count": null,
      "outputs": [
        {
          "output_type": "stream",
          "text": [
            "Quantos km tem sua viagem: 500\n",
            "O preço da sua passagem será 200.0 reais\n"
          ],
          "name": "stdout"
        }
      ]
    },
    {
      "cell_type": "markdown",
      "metadata": {
        "id": "6mThUlW3BKDi"
      },
      "source": [
        "**Criando o jogo Pedra, papel, tesoura.**"
      ]
    },
    {
      "cell_type": "code",
      "metadata": {
        "colab": {
          "base_uri": "https://localhost:8080/"
        },
        "id": "f6P_1ccKBdQ3",
        "outputId": "ff33039f-0a8d-4847-cd49-ad873da98d22"
      },
      "source": [
        "from random import choice\n",
        "\n",
        "jogador = str(input('Escolha entre Pedra, Papel ou Tesoura: ')).capitalize()\n",
        "\n",
        "lista = ['Pedra', 'Papel', 'Tesoura']\n",
        "computador = choice(lista)\n",
        "\n",
        "print('Você jogou {}'.format(jogador))\n",
        "print('O computador jogou {}'.format(computador))\n",
        "\n",
        "if computador == 'Pedra':\n",
        "  if jogador == 'Pedra':\n",
        "    print('Empate!')\n",
        "  elif jogador == 'Papel':\n",
        "    print('Você venceu, parabéns!')\n",
        "  elif jogador == 'Tesoura':\n",
        "    print('A máquina venceu!')\n",
        "\n",
        "if computador == 'Papel':\n",
        "  if jogador == 'Pedra':\n",
        "    print('A máquina venceu!')\n",
        "  elif jogador == 'Papel':\n",
        "    print('Empate!')\n",
        "  elif jogador == 'Tesoura':\n",
        "    print('Você venceu, parabéns!')\n",
        "\n",
        "\n",
        "if computador == 'Tesoura':\n",
        "  if jogador == 'Pedra':\n",
        "    print('Você venceu, parabéns!')\n",
        "  elif jogador == 'Papel':\n",
        "    print('A máquina venceu!')\n",
        "  elif jogador == 'Tesoura':\n",
        "    print('Empate!')\n",
        "\n"
      ],
      "execution_count": null,
      "outputs": [
        {
          "output_type": "stream",
          "text": [
            "Escolha entre Pedra, Papel ou Tesoura: pedra\n",
            "Você jogou Pedra\n",
            "O computador jogou Papel\n",
            "A máquina venceu!\n",
            "Jogada inválida.\n"
          ],
          "name": "stdout"
        }
      ]
    },
    {
      "cell_type": "markdown",
      "metadata": {
        "id": "g6KIbcQAHk23"
      },
      "source": [
        "## Estruturas de repetição:\n",
        "\n",
        "### **while:** \n",
        "\n",
        "O while é o comando utilizado para programar repetições no Python baseadas na avaliação de uma condição. Enquanto a condição for verdadeira, o bloco de comandos interno ao while é repetido. Quando a condição se torna falsa, o bloco de comandos deixa de repetir.\n",
        "\n",
        "```python\n",
        "while condição:\n",
        "    bloco de comandos\n",
        "```\n"
      ]
    },
    {
      "cell_type": "code",
      "metadata": {
        "id": "H6Xy9WP8DADn",
        "colab": {
          "base_uri": "https://localhost:8080/"
        },
        "outputId": "b6dab3f2-30f8-4a06-9410-a3200b2e8d25"
      },
      "source": [
        "lista_pessoas = []\n",
        "\n",
        "nome = str(input('Digite um nome: '))\n",
        "\n",
        "while nome != 'fim':\n",
        "    lista_pessoas.append(nome)\n",
        "    nome = input(\"Digite um nome: \")\n",
        "    \n",
        "print('Nomes digitados: ')\n",
        "print(lista_pessoas)"
      ],
      "execution_count": 1,
      "outputs": [
        {
          "output_type": "stream",
          "text": [
            "Digite um nome: Fran\n",
            "Digite um nome: Anderson\n",
            "Digite um nome: fim\n",
            "Nomes digitados: \n",
            "['Fran', 'Anderson']\n"
          ],
          "name": "stdout"
        }
      ]
    },
    {
      "cell_type": "code",
      "metadata": {
        "colab": {
          "base_uri": "https://localhost:8080/"
        },
        "id": "wOztIAv2Nb8X",
        "outputId": "86b0e15d-f1d3-4014-9f81-6b1b394cd6c2"
      },
      "source": [
        "lista_pessoas = []\n",
        "cont = 0\n",
        "\n",
        "nome = str(input('Digite um nome: '))\n",
        "\n",
        "while cont < 5:\n",
        "    lista_pessoas.append(nome)\n",
        "    nome = input(\"Digite um nome: \")\n",
        "    cont = cont + 1\n",
        "    \n",
        "print('Nomes digitados: ')\n",
        "print(lista_pessoas)"
      ],
      "execution_count": 2,
      "outputs": [
        {
          "output_type": "stream",
          "text": [
            "Digite um nome: José\n",
            "Digite um nome: Pedro\n",
            "Digite um nome: Fernanda\n",
            "Digite um nome: Augusto\n",
            "Digite um nome: Otávio\n",
            "Digite um nome: André\n",
            "Nomes digitados: \n",
            "['José', 'Pedro', 'Fernanda', 'Augusto', 'Otávio']\n"
          ],
          "name": "stdout"
        }
      ]
    },
    {
      "cell_type": "markdown",
      "metadata": {
        "id": "mHrdSh2VNtsd"
      },
      "source": [
        "### **for:**\n",
        "\n",
        "O laço for nos permite percorrer os itens de uma coleção e, para cada um deles, executar o bloco de código declarado no loop."
      ]
    },
    {
      "cell_type": "code",
      "metadata": {
        "colab": {
          "base_uri": "https://localhost:8080/"
        },
        "id": "YDahmWgjNu8q",
        "outputId": "6e7010ce-a972-4f4f-f755-eb456bb0f267"
      },
      "source": [
        "lista = [1, 19, 2, 15, 21, 12, 2]\n",
        "for num in lista:\n",
        "    print(num)"
      ],
      "execution_count": 3,
      "outputs": [
        {
          "output_type": "stream",
          "text": [
            "1\n",
            "19\n",
            "2\n",
            "15\n",
            "21\n",
            "12\n",
            "2\n"
          ],
          "name": "stdout"
        }
      ]
    },
    {
      "cell_type": "code",
      "metadata": {
        "colab": {
          "base_uri": "https://localhost:8080/"
        },
        "id": "N_Kum8T3N3pI",
        "outputId": "6d4caca6-836f-4ee5-dc66-c6b1aa8ba77a"
      },
      "source": [
        "for num in lista:\n",
        "    if num % 2 == 0:\n",
        "        print (\"{} é par.\".format(num))\n",
        "    else:\n",
        "        print(\"{} é ímpar.\".format(num))"
      ],
      "execution_count": 4,
      "outputs": [
        {
          "output_type": "stream",
          "text": [
            "1 é ímpar.\n",
            "19 é ímpar.\n",
            "2 é par.\n",
            "15 é ímpar.\n",
            "21 é ímpar.\n",
            "12 é par.\n",
            "2 é par.\n"
          ],
          "name": "stdout"
        }
      ]
    },
    {
      "cell_type": "code",
      "metadata": {
        "colab": {
          "base_uri": "https://localhost:8080/"
        },
        "id": "5oNdJ0QNOA9I",
        "outputId": "6db27165-0dcb-4f52-8803-b89c8669335d"
      },
      "source": [
        "num = int(input(\"Digite o número que deseja imprimir a taboada: \"))\n",
        "\n",
        "for mult in range(1,11):\n",
        "    print(\"{} x {} = {}\".format(num, mult, num*mult))"
      ],
      "execution_count": 5,
      "outputs": [
        {
          "output_type": "stream",
          "text": [
            "Digite o número que deseja imprimir a taboada: 8\n",
            "8 x 1 = 8\n",
            "8 x 2 = 16\n",
            "8 x 3 = 24\n",
            "8 x 4 = 32\n",
            "8 x 5 = 40\n",
            "8 x 6 = 48\n",
            "8 x 7 = 56\n",
            "8 x 8 = 64\n",
            "8 x 9 = 72\n",
            "8 x 10 = 80\n"
          ],
          "name": "stdout"
        }
      ]
    },
    {
      "cell_type": "markdown",
      "metadata": {
        "id": "LHFQfywtONcu"
      },
      "source": [
        "## Funções:\n",
        "Funções são trechos de código que podem ser executados em momentos diferentes de nossos códigos em Python. \n",
        "\n",
        "```python\n",
        "def nome_da_função():\n",
        "  comandos da função\n",
        "```\n",
        "\n",
        "- Que comandos a gente faz constantemente?\n",
        "print(), len(), input(), etc..."
      ]
    },
    {
      "cell_type": "code",
      "metadata": {
        "id": "TuKtveY8OSNH"
      },
      "source": [
        "def soma(a, b):\n",
        "  s = a + b\n",
        "  print(s)"
      ],
      "execution_count": 7,
      "outputs": []
    },
    {
      "cell_type": "code",
      "metadata": {
        "colab": {
          "base_uri": "https://localhost:8080/"
        },
        "id": "vm627IDgOTmU",
        "outputId": "a0f6bcf4-81dd-4a8d-e80b-c55215530b82"
      },
      "source": [
        "soma(34,56)"
      ],
      "execution_count": 8,
      "outputs": [
        {
          "output_type": "stream",
          "text": [
            "90\n"
          ],
          "name": "stdout"
        }
      ]
    },
    {
      "cell_type": "code",
      "metadata": {
        "colab": {
          "base_uri": "https://localhost:8080/"
        },
        "id": "qcZ4sYGDObUu",
        "outputId": "cada9642-e6ba-4709-dd0b-8ffa85037368"
      },
      "source": [
        "soma(a=2, b=7)"
      ],
      "execution_count": 9,
      "outputs": [
        {
          "output_type": "stream",
          "text": [
            "9\n"
          ],
          "name": "stdout"
        }
      ]
    },
    {
      "cell_type": "markdown",
      "metadata": {
        "id": "1cQzjFt3OiTt"
      },
      "source": [
        "### DESAFIO: \n",
        "Faça um programa que tenha uma função chamada area(), que receba as dimensões de um terreno retangular (largura e comprimento) e mostre a área do terreno seguindo o exemplo:\n",
        "- 'A largura selecionada é de 5m e o comprimento é de 5m, sendo a área: 25m²'\n",
        "\n",
        "Após, teste sua função."
      ]
    },
    {
      "cell_type": "code",
      "metadata": {
        "id": "eN58tRg0OjxL"
      },
      "source": [
        "def area(largura, comprimento):\n",
        "  area = largura * comprimento\n",
        "  print('A largura selecionada é de {}m e o comprimento é de {}m, sendo a área: {}m²'.format(largura, comprimento, area))"
      ],
      "execution_count": 10,
      "outputs": []
    },
    {
      "cell_type": "code",
      "metadata": {
        "colab": {
          "base_uri": "https://localhost:8080/"
        },
        "id": "p2t2xSZaTgkc",
        "outputId": "62e93de6-1ba1-4db4-e43d-d39ffe8f28a9"
      },
      "source": [
        "area(20,50)"
      ],
      "execution_count": 11,
      "outputs": [
        {
          "output_type": "stream",
          "text": [
            "A largura selecionada é de 20m e o comprimento é de 50m, sendo a área: 1000m²\n"
          ],
          "name": "stdout"
        }
      ]
    }
  ]
}