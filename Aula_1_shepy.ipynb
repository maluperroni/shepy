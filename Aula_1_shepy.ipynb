{
  "nbformat": 4,
  "nbformat_minor": 0,
  "metadata": {
    "colab": {
      "name": "Aula 1 - shepy.ipynb",
      "provenance": [],
      "authorship_tag": "ABX9TyPzLryN55OCcJC5Dc7uEcFo",
      "include_colab_link": true
    },
    "kernelspec": {
      "name": "python3",
      "display_name": "Python 3"
    },
    "language_info": {
      "name": "python"
    }
  },
  "cells": [
    {
      "cell_type": "markdown",
      "metadata": {
        "id": "view-in-github",
        "colab_type": "text"
      },
      "source": [
        "<a href=\"https://colab.research.google.com/github/perronimalu/shepy/blob/main/Aula_1_shepy.ipynb\" target=\"_parent\"><img src=\"https://colab.research.google.com/assets/colab-badge.svg\" alt=\"Open In Colab\"/></a>"
      ]
    },
    {
      "cell_type": "markdown",
      "metadata": {
        "id": "msDoO7Pu8MfV"
      },
      "source": [
        "# Aula 1 - shePy\n",
        "\n",
        "Aula introdutória sobre Python com operações matemáticas\n"
      ]
    },
    {
      "cell_type": "markdown",
      "metadata": {
        "id": "KWHNlirK89bL"
      },
      "source": [
        "## Tipos de dados \n",
        "Númericos \n",
        "- Inteiros (int)\n",
        "- Reais (float)\n",
        "\n",
        "Não númericos\n",
        "- String (str)\n",
        "- Lógico/Boleano (bool) - true ou false "
      ]
    },
    {
      "cell_type": "markdown",
      "metadata": {
        "id": "nZ2SD4ya--hX"
      },
      "source": [
        "## Variaveis identificadores \n",
        "Caracterizada por um nome e um tipo\n",
        "\n",
        "x = 1\n"
      ]
    },
    {
      "cell_type": "code",
      "metadata": {
        "colab": {
          "base_uri": "https://localhost:8080/"
        },
        "id": "Yu_3jvQMBLCk",
        "outputId": "c0bd700d-ada5-4b19-c114-18a890503e5f"
      },
      "source": [
        "mensagem = 'Hello world'\n",
        "print (mensagem) "
      ],
      "execution_count": null,
      "outputs": [
        {
          "output_type": "stream",
          "text": [
            "Hello world\n"
          ],
          "name": "stdout"
        }
      ]
    },
    {
      "cell_type": "code",
      "metadata": {
        "colab": {
          "base_uri": "https://localhost:8080/"
        },
        "id": "MxaST9pTDTAZ",
        "outputId": "8c037d5f-fa2f-4ef9-e45a-c104baee4fe9"
      },
      "source": [
        "nome = 'Maria Luiza'\n",
        "idade= 26\n",
        "idade_2 = 27\n",
        "\n",
        "print (\"Meu nome é {} eu tenho {} mas ano que vem faço {}\".format(nome,idade,idade_2))\n"
      ],
      "execution_count": null,
      "outputs": [
        {
          "output_type": "stream",
          "text": [
            "Meu nome é Maria Luiza eu tenho 26 mas ano que vem faço 27\n"
          ],
          "name": "stdout"
        }
      ]
    },
    {
      "cell_type": "markdown",
      "metadata": {
        "id": "VNcbxm6bKnjB"
      },
      "source": [
        "## Operações matemáticas"
      ]
    },
    {
      "cell_type": "code",
      "metadata": {
        "colab": {
          "base_uri": "https://localhost:8080/"
        },
        "id": "HwwyJqFiKsE8",
        "outputId": "084ed20e-c88f-4012-db8a-cea9289c1cf0"
      },
      "source": [
        "n1 = int(input('Digite um número:'))\n",
        "n2 = int(input('Digite um segundo número:' ))\n",
        "n3 = int(input('Digite um terceiro número:'))\n",
        "\n",
        "subtração = n1-n2-n3\n",
        "soma= n1+n2+n3\n",
        "print (soma)"
      ],
      "execution_count": null,
      "outputs": [
        {
          "output_type": "stream",
          "text": [
            "Digite um número:3\n",
            "Digite um segundo número:8\n",
            "Digite um terceiro número:34\n",
            "45\n"
          ],
          "name": "stdout"
        }
      ]
    },
    {
      "cell_type": "markdown",
      "metadata": {
        "id": "klLAFaBCMWJ-"
      },
      "source": [
        "### Exercícios\n"
      ]
    },
    {
      "cell_type": "code",
      "metadata": {
        "colab": {
          "base_uri": "https://localhost:8080/"
        },
        "id": "3ygze804MaME",
        "outputId": "d56daba9-ff75-4e52-d68d-a206ea87f29a"
      },
      "source": [
        "n1 = float(input('Digite um número:'))\n",
        "n2= float(input('Digite um segundo número:'))\n",
        "soma = n1+n2\n",
        "\n",
        "print ('A soma entre os números {} e {} é {}'.format(n1,n2,soma))"
      ],
      "execution_count": null,
      "outputs": [
        {
          "output_type": "stream",
          "text": [
            "Digite um número:2.5\n",
            "Digite um segundo número:3.9\n",
            "A soma entre os números 2.5 e 3.9 é 6.4\n"
          ],
          "name": "stdout"
        }
      ]
    },
    {
      "cell_type": "code",
      "metadata": {
        "colab": {
          "base_uri": "https://localhost:8080/"
        },
        "id": "CuQZeBxeN-VG",
        "outputId": "610563eb-f0f1-411f-d086-dd4329127a31"
      },
      "source": [
        "n1 = int(input('Digite um número:'))\n",
        "antecessor = n1 - 1\n",
        "sucessor = n1 + 1\n",
        "\n",
        "print ('O antecessor do {} é {} e o sucessor é {}'.format(n1,antecessor,sucessor))"
      ],
      "execution_count": null,
      "outputs": [
        {
          "output_type": "stream",
          "text": [
            "Digite um número:6\n",
            "O antecessor do 6 é 5 e o sucessor é 7\n"
          ],
          "name": "stdout"
        }
      ]
    },
    {
      "cell_type": "code",
      "metadata": {
        "colab": {
          "base_uri": "https://localhost:8080/"
        },
        "id": "8r3k9zD7PYdT",
        "outputId": "75f07940-d46e-443e-d3c2-60e8db0fefda"
      },
      "source": [
        "largura = float(input('Digite a largura da parede:'))\n",
        "altura = float(input('Digite a altura da parade:'))\n",
        "area = altura*largura\n",
        "tinta = area/2\n",
        "\n",
        "print ('A área será de {} m² e a quantidade de tinta é {} litros'.format(area, tinta))"
      ],
      "execution_count": null,
      "outputs": [
        {
          "output_type": "stream",
          "text": [
            "Digite a largura da parede:7\n",
            "Digite a altura da parade:56\n",
            "A área será de 392.0 m² e a quantidade de tinta é 196.0 litros\n"
          ],
          "name": "stdout"
        }
      ]
    }
  ]
}