{
  "nbformat": 4,
  "nbformat_minor": 0,
  "metadata": {
    "colab": {
      "name": "Aula 2 - shePY.ipynb",
      "provenance": [],
      "authorship_tag": "ABX9TyMAeXDvfc0z7PttOqjxLm1U",
      "include_colab_link": true
    },
    "kernelspec": {
      "name": "python3",
      "display_name": "Python 3"
    },
    "language_info": {
      "name": "python"
    }
  },
  "cells": [
    {
      "cell_type": "markdown",
      "metadata": {
        "id": "view-in-github",
        "colab_type": "text"
      },
      "source": [
        "<a href=\"https://colab.research.google.com/github/perronimalu/shepy/blob/main/Aula_2_shePY.ipynb\" target=\"_parent\"><img src=\"https://colab.research.google.com/assets/colab-badge.svg\" alt=\"Open In Colab\"/></a>"
      ]
    },
    {
      "cell_type": "markdown",
      "metadata": {
        "id": "-Ij0Fckz_VCe"
      },
      "source": [
        "#Aula 2 - shePY\n",
        "\n",
        "Trabalhando conceitos de strings, listas, tuplas e dicionários. Além disso, iremos entender como importar módulos e bibliotecas."
      ]
    },
    {
      "cell_type": "markdown",
      "metadata": {
        "id": "l9fNjzwU_t5P"
      },
      "source": [
        "##Utilizando módulos\n",
        "Uma biblioteca é um conjunto de módulos. E módulos, por sua vez, são programas feitos para serem reaproveitados em outros códigos. \n",
        "Um módulo tem uma funcionalidade, e uma biblioteca tem um conjunto de funcionalidades. \n",
        "Há diversos módulos de Python que fazem parte da biblioteca padrão.\n",
        "\n",
        "Exemplo de biblioteca: **math**\n",
        "\n",
        "- cell: arredondar o valor para cima\n",
        "- floor: arredondar para baixo\n",
        "-sqrt: retorna a raiz quadrada\n",
        "- pow: potenciação "
      ]
    },
    {
      "cell_type": "code",
      "metadata": {
        "colab": {
          "base_uri": "https://localhost:8080/"
        },
        "id": "6kZgWNKZBo64",
        "outputId": "5a93e98c-8343-44d4-d026-b1c6a76d5fb3"
      },
      "source": [
        "import math #importando a lib inteira\n",
        "raiz = math.sqrt(9)\n",
        "print(raiz)"
      ],
      "execution_count": null,
      "outputs": [
        {
          "output_type": "stream",
          "text": [
            "3.0\n"
          ],
          "name": "stdout"
        }
      ]
    },
    {
      "cell_type": "code",
      "metadata": {
        "colab": {
          "base_uri": "https://localhost:8080/"
        },
        "id": "VQYkdUX0Ckqm",
        "outputId": "083aeb35-1cb9-4984-ce70-8050f316c206"
      },
      "source": [
        "from math import sqrt #importando somente a funcionalidade que irei utilizar\n",
        "raiz = sqrt(9)\n",
        "print(raiz)"
      ],
      "execution_count": null,
      "outputs": [
        {
          "output_type": "stream",
          "text": [
            "3.0\n"
          ],
          "name": "stdout"
        }
      ]
    },
    {
      "cell_type": "code",
      "metadata": {
        "colab": {
          "base_uri": "https://localhost:8080/"
        },
        "id": "AMPvmVUuuU29",
        "outputId": "ab245aa0-a942-42f4-f001-8bfa8fd09cce"
      },
      "source": [
        "#para utilizar várias funcionalidades, importar a biblioteca inteira\n",
        "\n",
        "import math\n",
        "number = float(input('Digite um número: '))\n",
        "raiz = math.sqrt(number)\n",
        "potencia = math.pow(number,2)\n",
        "print('A raíz quadrada de {} é {} e ao elevarmos {} por 2 o resultado é de: {}'.format(number, raiz, number, potencia))\n"
      ],
      "execution_count": null,
      "outputs": [
        {
          "output_type": "stream",
          "text": [
            "Digite um número: 78\n",
            "A raíz quadrada de 78.0 é 8.831760866327848 e ao elevarmos 78.0 por 2 o resultado é de: 6084.0\n"
          ],
          "name": "stdout"
        }
      ]
    },
    {
      "cell_type": "code",
      "metadata": {
        "colab": {
          "base_uri": "https://localhost:8080/"
        },
        "id": "w9AqJ397vPY5",
        "outputId": "ee1641f8-324f-4e74-c7e9-728fd5b58fa7"
      },
      "source": [
        "#Ou, para economizar memória, importar as funcionalidades que irá utilizar\n",
        "\n",
        "from math import sqrt, pow\n",
        "number = float(input('Digite um número: '))\n",
        "raiz = math.sqrt(number)\n",
        "potencia = math.pow(number,2)\n",
        "print('A raíz quadrada de {} é {} e ao elevarmos {} por 2 o resultado é de {}'.format(number, raiz, number, potencia))"
      ],
      "execution_count": null,
      "outputs": [
        {
          "output_type": "stream",
          "text": [
            "Digite um número: 67\n",
            "A raíz quadrada de 67.0 é 8.18535277187245 e ao elevarmos 67.0 por 2 o resultado é de 4489.0\n"
          ],
          "name": "stdout"
        }
      ]
    },
    {
      "cell_type": "code",
      "metadata": {
        "id": "uWWu2SA0zwdB"
      },
      "source": [
        "#Sobre a documentação: https://docs.python.org/pt-br/3/library/math.html "
      ],
      "execution_count": null,
      "outputs": []
    },
    {
      "cell_type": "markdown",
      "metadata": {
        "id": "6Lwt0LbjGQqE"
      },
      "source": [
        "### Módulo random\n",
        "Documentação: https://docs.python.org/pt-br/3/library/random.html"
      ]
    },
    {
      "cell_type": "code",
      "metadata": {
        "id": "KR7jAI68GX20"
      },
      "source": [
        "#Exercício: Faça um programa que ajude uma professora a escolher quem será a primeira aluna a apresentar seu trabalho.\n",
        "import random\n",
        "aluno1 = str(input('Primeira aluna '))\n",
        "aluno2 = str(input('Segunda aluna: '))\n",
        "aluno3 = str(input('Terceira aluna: '))\n",
        "aluno4 = str(input('Terceira aluna: '))\n",
        "\n",
        "lista_alunas = [aluno1, aluno2, aluno3, aluno4]\n",
        "\n",
        "escolhida = random.choice(lista_alunas)\n",
        "\n",
        "print('A pessoa escolhida foi: {}'.format(escolhida))"
      ],
      "execution_count": null,
      "outputs": []
    },
    {
      "cell_type": "code",
      "metadata": {
        "colab": {
          "base_uri": "https://localhost:8080/"
        },
        "id": "rAPtzkqY038m",
        "outputId": "d8ca8f99-2004-496d-fd68-c26e5676bd91"
      },
      "source": [
        "# Exercício: Faça um programa que ajude uma professora a escolher quem será a primeira aluna a apresentar seu trabalho.\n",
        "\n",
        "import random\n",
        "aluna1 = str(input('Primeira aluna:'))\n",
        "aluna2 = str(input('Segunda aluna:'))\n",
        "aluna3 = str(input('Terceira aluna:'))\n",
        "aluna4 = str(input('Quarta aluna:'))\n",
        "\n",
        "lista_alunas = [aluna1,aluna2, aluna3, aluna4]\n",
        "escolhida = random.choice(lista_alunas)\n",
        "print('A escolhida foi:{}'.format(escolhida))"
      ],
      "execution_count": null,
      "outputs": [
        {
          "output_type": "stream",
          "text": [
            "Primeira aluna:Ana\n",
            "Segunda aluna:Antonia\n",
            "Terceira aluna:Felicia\n",
            "Quarta aluna:Roberta\n",
            "A escolhida foi:Felicia\n"
          ],
          "name": "stdout"
        }
      ]
    },
    {
      "cell_type": "markdown",
      "metadata": {
        "id": "LNj05N8P4kfZ"
      },
      "source": [
        "##Utilizamos listas nos exercícios anteriores. Mas o que são listas?\n",
        "Lista é uma coleção de elementos. Cada elemento possui uma posição dentro de uma lista. Essa posição é chamada índice. O primeiro elemento fica armazenando no índice 0 e o último elemento no índice n-1 (n é a quantidade de elementos da lista)."
      ]
    },
    {
      "cell_type": "markdown",
      "metadata": {
        "id": "uMLnmp0n6tm0"
      },
      "source": [
        "**Criando listas**"
      ]
    },
    {
      "cell_type": "code",
      "metadata": {
        "id": "fC-SAKxQ8AnM"
      },
      "source": [
        "lista_reais = [5,7.8,-9.4] \n",
        "lista_strings = ['ponte', 'casa', 'cidade', 'carro']\n",
        "lista_booleanos = [True, False]\n",
        "lista_misturada = [1,4,6.89,-94.867, 'teste', 'arvore']"
      ],
      "execution_count": null,
      "outputs": []
    },
    {
      "cell_type": "code",
      "metadata": {
        "colab": {
          "base_uri": "https://localhost:8080/"
        },
        "id": "qh3nQMOn9PgK",
        "outputId": "a9440b03-5eb7-4093-aff4-7a2712e3bd55"
      },
      "source": [
        "type(lista_strings)"
      ],
      "execution_count": null,
      "outputs": [
        {
          "output_type": "execute_result",
          "data": {
            "text/plain": [
              "list"
            ]
          },
          "metadata": {
            "tags": []
          },
          "execution_count": 13
        }
      ]
    },
    {
      "cell_type": "code",
      "metadata": {
        "colab": {
          "base_uri": "https://localhost:8080/"
        },
        "id": "SUHWeE1G9lJW",
        "outputId": "cf9b9f5f-017f-49df-e001-29cf3e450ef3"
      },
      "source": [
        "lista_misturada"
      ],
      "execution_count": null,
      "outputs": [
        {
          "output_type": "execute_result",
          "data": {
            "text/plain": [
              "[1, 4, 6.89, -94.867, 'teste', 'arvore']"
            ]
          },
          "metadata": {
            "tags": []
          },
          "execution_count": 14
        }
      ]
    },
    {
      "cell_type": "markdown",
      "metadata": {
        "id": "bHnPi51C950N"
      },
      "source": [
        "**Acessando elementos de uma lista:**\n",
        "\n",
        "Você deve passar o nome da lista que deseja acessar e passar o índice do elemento desejado entre colchetes.\n",
        "\n"
      ]
    },
    {
      "cell_type": "code",
      "metadata": {
        "colab": {
          "base_uri": "https://localhost:8080/"
        },
        "id": "2NV29hLH-OKH",
        "outputId": "1484c8a1-32db-4d38-92c1-6fed9c00ed58"
      },
      "source": [
        "#Acessando um elementod da lista\n",
        "lista_reais [0]"
      ],
      "execution_count": null,
      "outputs": [
        {
          "output_type": "execute_result",
          "data": {
            "text/plain": [
              "5"
            ]
          },
          "metadata": {
            "tags": []
          },
          "execution_count": 15
        }
      ]
    },
    {
      "cell_type": "markdown",
      "metadata": {
        "id": "TbB6PVAYCUqn"
      },
      "source": [
        "**Como acessar 'cidade' dentro da lista de strings criada?**\n",
        "\n",
        "\n"
      ]
    },
    {
      "cell_type": "code",
      "metadata": {
        "colab": {
          "base_uri": "https://localhost:8080/"
        },
        "id": "S4sO4a9jCjDr",
        "outputId": "d2f9ccb6-3087-4590-9475-9557121c5c9e"
      },
      "source": [
        "lista_strings"
      ],
      "execution_count": null,
      "outputs": [
        {
          "output_type": "execute_result",
          "data": {
            "text/plain": [
              "['ponte', 'casa', 'cidade', 'carro']"
            ]
          },
          "metadata": {
            "tags": []
          },
          "execution_count": 24
        }
      ]
    },
    {
      "cell_type": "code",
      "metadata": {
        "colab": {
          "base_uri": "https://localhost:8080/",
          "height": 35
        },
        "id": "oCcNLamwCl7y",
        "outputId": "2b810487-daa3-4da9-902a-de15d0889034"
      },
      "source": [
        "lista_strings[2]"
      ],
      "execution_count": null,
      "outputs": [
        {
          "output_type": "execute_result",
          "data": {
            "application/vnd.google.colaboratory.intrinsic+json": {
              "type": "string"
            },
            "text/plain": [
              "'cidade'"
            ]
          },
          "metadata": {
            "tags": []
          },
          "execution_count": 17
        }
      ]
    },
    {
      "cell_type": "markdown",
      "metadata": {
        "id": "H3XtWC5QCyr5"
      },
      "source": [
        "**Como acessar  'cidade'  e  'carro'  dentro da lista de strings criada?**\n",
        "\n"
      ]
    },
    {
      "cell_type": "code",
      "metadata": {
        "colab": {
          "base_uri": "https://localhost:8080/"
        },
        "id": "MfKyaQxrC2KT",
        "outputId": "38f346a5-279d-4e68-c788-283d9e295acc"
      },
      "source": [
        "lista_strings[2:3]"
      ],
      "execution_count": null,
      "outputs": [
        {
          "output_type": "execute_result",
          "data": {
            "text/plain": [
              "['cidade']"
            ]
          },
          "metadata": {
            "tags": []
          },
          "execution_count": 18
        }
      ]
    },
    {
      "cell_type": "markdown",
      "metadata": {
        "id": "4gIkKavADM1R"
      },
      "source": [
        "Não conseguimos acessar o carro, por que?\n",
        "\n",
        "\n",
        "\n",
        "\n",
        "\n"
      ]
    },
    {
      "cell_type": "code",
      "metadata": {
        "colab": {
          "base_uri": "https://localhost:8080/"
        },
        "id": "ltZ3WOGCDOe5",
        "outputId": "0be043a2-96f8-4daa-da89-12760a137342"
      },
      "source": [
        "lista_strings[2:4]"
      ],
      "execution_count": null,
      "outputs": [
        {
          "output_type": "execute_result",
          "data": {
            "text/plain": [
              "['cidade', 'carro']"
            ]
          },
          "metadata": {
            "tags": []
          },
          "execution_count": 19
        }
      ]
    },
    {
      "cell_type": "code",
      "metadata": {
        "colab": {
          "base_uri": "https://localhost:8080/"
        },
        "id": "lZ80UFYFDdu-",
        "outputId": "1d8fe915-e945-4880-81d3-54b8d1e6c31e"
      },
      "source": [
        "lista_strings[2:]"
      ],
      "execution_count": null,
      "outputs": [
        {
          "output_type": "execute_result",
          "data": {
            "text/plain": [
              "['cidade', 'carro']"
            ]
          },
          "metadata": {
            "tags": []
          },
          "execution_count": 20
        }
      ]
    },
    {
      "cell_type": "markdown",
      "metadata": {
        "id": "xtmdxKa-DhmS"
      },
      "source": [
        "E se quisermos acessar todos elementos e ignorar o carro?"
      ]
    },
    {
      "cell_type": "code",
      "metadata": {
        "colab": {
          "base_uri": "https://localhost:8080/"
        },
        "id": "RvsCawt-Dm6b",
        "outputId": "209538df-4b83-43c5-c603-b3eeb87995d3"
      },
      "source": [
        "lista_strings[:3]\n"
      ],
      "execution_count": null,
      "outputs": [
        {
          "output_type": "execute_result",
          "data": {
            "text/plain": [
              "['ponte', 'casa', 'cidade']"
            ]
          },
          "metadata": {
            "tags": []
          },
          "execution_count": 25
        }
      ]
    },
    {
      "cell_type": "markdown",
      "metadata": {
        "id": "InVZhYZTD5V_"
      },
      "source": [
        "**Posso atribuir novos valores para elementos de uma lista?** \n",
        "**Sim!**\n",
        "\n"
      ]
    },
    {
      "cell_type": "code",
      "metadata": {
        "colab": {
          "base_uri": "https://localhost:8080/"
        },
        "id": "vyy70GkREAzS",
        "outputId": "a944f368-2263-486c-e8ab-edb2c51356d4"
      },
      "source": [
        "lista_strings"
      ],
      "execution_count": null,
      "outputs": [
        {
          "output_type": "execute_result",
          "data": {
            "text/plain": [
              "['ponte', 'casa', 'cidade', 'carro']"
            ]
          },
          "metadata": {
            "tags": []
          },
          "execution_count": 26
        }
      ]
    },
    {
      "cell_type": "code",
      "metadata": {
        "colab": {
          "base_uri": "https://localhost:8080/"
        },
        "id": "Ty9vBySYEfnH",
        "outputId": "ce3185c7-b1f4-4548-ec08-f71fb86b61da"
      },
      "source": [
        "#Substituindo 'ponte' por 'estrada'\n",
        "lista_strings[0] = 'estrada'\n",
        "lista_strings"
      ],
      "execution_count": null,
      "outputs": [
        {
          "output_type": "execute_result",
          "data": {
            "text/plain": [
              "['estrada', 'casa', 'cidade', 'carro']"
            ]
          },
          "metadata": {
            "tags": []
          },
          "execution_count": 27
        }
      ]
    },
    {
      "cell_type": "markdown",
      "metadata": {
        "id": "NQ480eamxhOR"
      },
      "source": [
        "**Funções aplicáveis a uma lista**\n",
        "\n",
        "Função | Descrição | Exemplo\n",
        ":----- | :-------- | :------\n",
        "len | Retorna a quantidade de elementos de uma lista | `len(lista)`\n",
        "max  | Retorna o maior elemento de uma lista | `max(lista)`\n",
        "min | Retorna o menor elemento de uma lista | `min(lista)`\n",
        "sum | Retorna o somatório dos elementos de uma lista | `sum(lista)`"
      ]
    },
    {
      "cell_type": "code",
      "metadata": {
        "colab": {
          "base_uri": "https://localhost:8080/"
        },
        "id": "C95axxV2zp2a",
        "outputId": "c8764034-8f68-4540-c0bc-757a76bb5e86"
      },
      "source": [
        "lista_reais"
      ],
      "execution_count": null,
      "outputs": [
        {
          "output_type": "execute_result",
          "data": {
            "text/plain": [
              "[5, 7.8, -9.4]"
            ]
          },
          "metadata": {
            "tags": []
          },
          "execution_count": 5
        }
      ]
    },
    {
      "cell_type": "code",
      "metadata": {
        "colab": {
          "base_uri": "https://localhost:8080/"
        },
        "id": "Txf5iE7mztaq",
        "outputId": "9f356d2a-8f66-4f26-fc99-e74152fdc7a6"
      },
      "source": [
        "len(lista_reais)"
      ],
      "execution_count": null,
      "outputs": [
        {
          "output_type": "execute_result",
          "data": {
            "text/plain": [
              "3"
            ]
          },
          "metadata": {
            "tags": []
          },
          "execution_count": 6
        }
      ]
    },
    {
      "cell_type": "code",
      "metadata": {
        "colab": {
          "base_uri": "https://localhost:8080/"
        },
        "id": "1CkQxz-vzyDy",
        "outputId": "dd48d8a7-bfb1-469d-f904-85ac8793281b"
      },
      "source": [
        "max(lista_reais)"
      ],
      "execution_count": null,
      "outputs": [
        {
          "output_type": "execute_result",
          "data": {
            "text/plain": [
              "7.8"
            ]
          },
          "metadata": {
            "tags": []
          },
          "execution_count": 7
        }
      ]
    },
    {
      "cell_type": "code",
      "metadata": {
        "colab": {
          "base_uri": "https://localhost:8080/"
        },
        "id": "OAi6Dq4nz1OS",
        "outputId": "79ec0d2f-59b2-413c-c9c5-e7bf50a3b66d"
      },
      "source": [
        "min(lista_reais)"
      ],
      "execution_count": null,
      "outputs": [
        {
          "output_type": "execute_result",
          "data": {
            "text/plain": [
              "-9.4"
            ]
          },
          "metadata": {
            "tags": []
          },
          "execution_count": 8
        }
      ]
    },
    {
      "cell_type": "code",
      "metadata": {
        "colab": {
          "base_uri": "https://localhost:8080/"
        },
        "id": "bRIEREmJz70a",
        "outputId": "69c45ede-b59a-41e2-9930-3eeba6561f19"
      },
      "source": [
        "sum(lista_reais)"
      ],
      "execution_count": null,
      "outputs": [
        {
          "output_type": "execute_result",
          "data": {
            "text/plain": [
              "3.4000000000000004"
            ]
          },
          "metadata": {
            "tags": []
          },
          "execution_count": 9
        }
      ]
    },
    {
      "cell_type": "markdown",
      "metadata": {
        "id": "6qqdoDa50Kx0"
      },
      "source": [
        "**Principais métodos de um objeto lista**\n"
      ]
    },
    {
      "cell_type": "markdown",
      "metadata": {
        "id": "EjnZpUDW0Xui"
      },
      "source": [
        "Método | Descrição | Exemplo\n",
        ":----- | :-------- | :------\n",
        "append | Adiciona um elemento no final da lista | `lista.append(10)`\n",
        "clear  | Apaga todos os elementos de uma lista | `lista.clear()`\n",
        "copy | Retorna uma cópia dos elementos da lista | `copia = lista.copy()`\n",
        "count | Retorna a quantidade de ocorrências de um elemento na lista | `qt = lista.count(5)`\n",
        "extend | Adiciona os elementos de outra lista passada por parâmetro | `lista.extend(outra_lista)`\n",
        "index | Retorna o índice do elemento passado por parâmetro (primeira posição) | `pos5 = lista.index(5)`\n",
        "insert | Adiciona um elemento em uma posição passada por parâmetro (adiciona no final caso a posição não exista)| `lista.insert(3, \"Maria\")`\n",
        "pop | Remove o elemento na posição passada por parâmetro (provoca um erro caso a posição não exista)| `elemento = lista.pop(3)`\n",
        "remove | Remove o elemento passado por parâmetro (provoca um erro caso o elemento não exista)| `lista.remove(5)`\n",
        "reverse | Inverte a ordem dos elementos de uma lista | `lista.reverse()`\n",
        "sort | Ordena os objetos de uma lista | `lista.sort()`\n",
        " | | `lista.sort(reverse=True)`"
      ]
    },
    {
      "cell_type": "code",
      "metadata": {
        "id": "ECckxzUK1Twq"
      },
      "source": [
        "lista_gatos = ['SRD','Siames', 'Persa']"
      ],
      "execution_count": null,
      "outputs": []
    },
    {
      "cell_type": "markdown",
      "metadata": {
        "id": "3TOOjKYW1feS"
      },
      "source": [
        "Adicionando a raça Sphynx no fim da lista de gatos"
      ]
    },
    {
      "cell_type": "code",
      "metadata": {
        "colab": {
          "base_uri": "https://localhost:8080/"
        },
        "id": "ntrVy8sD1jUD",
        "outputId": "560eea03-e8ac-4883-bd46-9a6e408ced1a"
      },
      "source": [
        "lista_gatos.append('Shpynx')\n",
        "lista_gatos"
      ],
      "execution_count": null,
      "outputs": [
        {
          "output_type": "execute_result",
          "data": {
            "text/plain": [
              "['SRD', 'Siames', 'Persa', 'Shpynx']"
            ]
          },
          "metadata": {
            "tags": []
          },
          "execution_count": 13
        }
      ]
    },
    {
      "cell_type": "markdown",
      "metadata": {
        "id": "ZxLgEl9y1yCM"
      },
      "source": [
        "Contando quantas vezes a palavra Persa aparece na lista\n"
      ]
    },
    {
      "cell_type": "code",
      "metadata": {
        "colab": {
          "base_uri": "https://localhost:8080/"
        },
        "id": "-Nuas7Si1zOD",
        "outputId": "4df711d1-708d-4def-8788-55f54b075a8e"
      },
      "source": [
        "lista_gatos.count('Persa')"
      ],
      "execution_count": null,
      "outputs": [
        {
          "output_type": "execute_result",
          "data": {
            "text/plain": [
              "1"
            ]
          },
          "metadata": {
            "tags": []
          },
          "execution_count": 14
        }
      ]
    },
    {
      "cell_type": "markdown",
      "metadata": {
        "id": "B2rgKlSw18Er"
      },
      "source": [
        "Adicionando a raça Himalaia no começo da lista de gatos"
      ]
    },
    {
      "cell_type": "code",
      "metadata": {
        "colab": {
          "base_uri": "https://localhost:8080/"
        },
        "id": "2F-m28xQ18vT",
        "outputId": "e88a0e5c-ea0d-4906-cf94-6ec00f2cb4ae"
      },
      "source": [
        "lista_gatos.insert(0,'Himalaia')\n",
        "lista_gatos"
      ],
      "execution_count": null,
      "outputs": [
        {
          "output_type": "execute_result",
          "data": {
            "text/plain": [
              "['Himalaia', 'SRD', 'Siames', 'Persa', 'Shpynx']"
            ]
          },
          "metadata": {
            "tags": []
          },
          "execution_count": 15
        }
      ]
    },
    {
      "cell_type": "markdown",
      "metadata": {
        "id": "tHJDDXfY2IjT"
      },
      "source": [
        "E se quisermos remover SRD da lista?\n",
        "\n",
        "É possível fazer de duas formas:\n",
        "\n",
        "*   Usando o pop\n",
        "*   Usando o remove\n",
        "\n",
        "\n"
      ]
    },
    {
      "cell_type": "code",
      "metadata": {
        "colab": {
          "base_uri": "https://localhost:8080/"
        },
        "id": "AwuH_Vj82gKD",
        "outputId": "ae0ad87a-d04c-4c62-b67c-538d5ab26433"
      },
      "source": [
        "# pop - Remove o elemento na posição passada por parâmetro\n",
        "lista_gatos.pop(1)\n",
        "lista_gatos"
      ],
      "execution_count": null,
      "outputs": [
        {
          "output_type": "execute_result",
          "data": {
            "text/plain": [
              "['Himalaia', 'Siames', 'Persa', 'Shpynx']"
            ]
          },
          "metadata": {
            "tags": []
          },
          "execution_count": 16
        }
      ]
    },
    {
      "cell_type": "code",
      "metadata": {
        "colab": {
          "base_uri": "https://localhost:8080/"
        },
        "id": "a6QHwDSN2ofb",
        "outputId": "ab9769ce-a577-4bb2-aa96-dfece81af98d"
      },
      "source": [
        "lista_gatos.insert(1,'SDR')\n",
        "lista_gatos"
      ],
      "execution_count": null,
      "outputs": [
        {
          "output_type": "execute_result",
          "data": {
            "text/plain": [
              "['Himalaia', 'SDR', 'Siames', 'Persa', 'Shpynx']"
            ]
          },
          "metadata": {
            "tags": []
          },
          "execution_count": 23
        }
      ]
    },
    {
      "cell_type": "code",
      "metadata": {
        "colab": {
          "base_uri": "https://localhost:8080/"
        },
        "id": "RwXamIZe22FL",
        "outputId": "f7f7812b-78a5-4b91-c4c8-828a84ff817b"
      },
      "source": [
        "# remove - Remove o elemento passado por parâmetro \n",
        "lista_gatos.remove('SDR')\n",
        "lista_gatos"
      ],
      "execution_count": null,
      "outputs": [
        {
          "output_type": "execute_result",
          "data": {
            "text/plain": [
              "['Himalaia', 'Siames', 'Persa', 'Shpynx']"
            ]
          },
          "metadata": {
            "tags": []
          },
          "execution_count": 24
        }
      ]
    },
    {
      "cell_type": "markdown",
      "metadata": {
        "id": "LAXnC5sr3TFj"
      },
      "source": [
        "###Desafio:\n",
        "\n",
        "1. Crie uma lista contendo os seguintes nomes de filmes: As Branquelas, Vovózona, Meninas Malvadas. Armazene essa lista na variável **filmes**.\n",
        "2. Adicione o filme 'Zumbilândia' ao final da lista filmes.\n",
        "3. Substitua o filme Vovózona por 'Divertidamente'."
      ]
    },
    {
      "cell_type": "code",
      "metadata": {
        "colab": {
          "base_uri": "https://localhost:8080/"
        },
        "id": "_VVXYZGr3aWE",
        "outputId": "d1f9fd1d-cf6f-40f4-d8d0-e1585888d02c"
      },
      "source": [
        "filmes = ['As Branquelas', 'Vovózona', 'Meninas Malvadas']\n",
        "filmes\n"
      ],
      "execution_count": null,
      "outputs": [
        {
          "output_type": "execute_result",
          "data": {
            "text/plain": [
              "['As Branquelas', 'Vovózona', 'Meninas Malvadas']"
            ]
          },
          "metadata": {
            "tags": []
          },
          "execution_count": 35
        }
      ]
    },
    {
      "cell_type": "code",
      "metadata": {
        "colab": {
          "base_uri": "https://localhost:8080/"
        },
        "id": "a37OAtM93rKS",
        "outputId": "5cf05dbc-0826-4a1f-f39d-2f86c185f4c0"
      },
      "source": [
        "filmes.append('Zumbilândia')\n",
        "filmes"
      ],
      "execution_count": null,
      "outputs": [
        {
          "output_type": "execute_result",
          "data": {
            "text/plain": [
              "['As Branquelas', 'Vovózona', 'Meninas Malvadas', 'Zumbilândia']"
            ]
          },
          "metadata": {
            "tags": []
          },
          "execution_count": 36
        }
      ]
    },
    {
      "cell_type": "code",
      "metadata": {
        "colab": {
          "base_uri": "https://localhost:8080/"
        },
        "id": "Zo9ZYtkx39Rq",
        "outputId": "8712f652-8114-4861-8522-b967a85c9837"
      },
      "source": [
        "filmes[1] = 'Divertidamente'\n",
        "filmes"
      ],
      "execution_count": null,
      "outputs": [
        {
          "output_type": "execute_result",
          "data": {
            "text/plain": [
              "['As Branquelas', 'Divertidamente', 'Meninas Malvadas', 'Zumbilândia']"
            ]
          },
          "metadata": {
            "tags": []
          },
          "execution_count": 37
        }
      ]
    },
    {
      "cell_type": "markdown",
      "metadata": {
        "id": "hqVi0aSs4unl"
      },
      "source": [
        "##Tuplas\n",
        "\n",
        "Assim como a Lista, uma Tupla em Python é uma coleção de elementos\n",
        "\n",
        "A principal diferença entre essas estruturas é a propriedade de imutabilidade das tuplas. Isso significa que, uma vez definidos os seus elementos, a tupla não pode mais ser alterada."
      ]
    },
    {
      "cell_type": "markdown",
      "metadata": {
        "id": "TEHfdq615AY9"
      },
      "source": [
        "**Criando tuplas**"
      ]
    },
    {
      "cell_type": "code",
      "metadata": {
        "colab": {
          "base_uri": "https://localhost:8080/"
        },
        "id": "FTR8WmuE5BZT",
        "outputId": "d0d3a5dd-4917-44ca-8f4f-73b06f7d0a44"
      },
      "source": [
        "tupla = (5,9,8,52,65,13)\n",
        "type(tupla)"
      ],
      "execution_count": null,
      "outputs": [
        {
          "output_type": "execute_result",
          "data": {
            "text/plain": [
              "tuple"
            ]
          },
          "metadata": {
            "tags": []
          },
          "execution_count": 50
        }
      ]
    },
    {
      "cell_type": "markdown",
      "metadata": {
        "id": "G7ndfvm05J8t"
      },
      "source": [
        "**Como acessar elementos de uma tupla:**"
      ]
    },
    {
      "cell_type": "code",
      "metadata": {
        "colab": {
          "base_uri": "https://localhost:8080/"
        },
        "id": "wuHsYAku5NhD",
        "outputId": "d3f2d89f-9f75-497d-c4ac-c866989df012"
      },
      "source": [
        "tupla[3]"
      ],
      "execution_count": null,
      "outputs": [
        {
          "output_type": "execute_result",
          "data": {
            "text/plain": [
              "52"
            ]
          },
          "metadata": {
            "tags": []
          },
          "execution_count": 51
        }
      ]
    },
    {
      "cell_type": "markdown",
      "metadata": {
        "id": "we869GtR5YsK"
      },
      "source": [
        "**A imutabilidade de uma tupla**"
      ]
    },
    {
      "cell_type": "code",
      "metadata": {
        "colab": {
          "base_uri": "https://localhost:8080/",
          "height": 180
        },
        "id": "7eYj2kXL5ZfL",
        "outputId": "2cbff15d-1aaf-4050-e10a-88b423f2bb8a"
      },
      "source": [
        "#Atribuindo o valor 5 ao índice 0 provocará um erro\n",
        "tupla[0] =4"
      ],
      "execution_count": null,
      "outputs": [
        {
          "output_type": "error",
          "ename": "TypeError",
          "evalue": "ignored",
          "traceback": [
            "\u001b[0;31m---------------------------------------------------------------------------\u001b[0m",
            "\u001b[0;31mTypeError\u001b[0m                                 Traceback (most recent call last)",
            "\u001b[0;32m<ipython-input-52-053a32128403>\u001b[0m in \u001b[0;36m<module>\u001b[0;34m()\u001b[0m\n\u001b[1;32m      1\u001b[0m \u001b[0;31m#Atribuindo o valor 5 ao índice 0 provocará um erro\u001b[0m\u001b[0;34m\u001b[0m\u001b[0;34m\u001b[0m\u001b[0;34m\u001b[0m\u001b[0m\n\u001b[0;32m----> 2\u001b[0;31m \u001b[0mtupla\u001b[0m\u001b[0;34m[\u001b[0m\u001b[0;36m0\u001b[0m\u001b[0;34m]\u001b[0m \u001b[0;34m=\u001b[0m\u001b[0;36m4\u001b[0m\u001b[0;34m\u001b[0m\u001b[0;34m\u001b[0m\u001b[0m\n\u001b[0m",
            "\u001b[0;31mTypeError\u001b[0m: 'tuple' object does not support item assignment"
          ]
        }
      ]
    },
    {
      "cell_type": "markdown",
      "metadata": {
        "id": "Vh8R-bPN5m8k"
      },
      "source": [
        "**Convertendo uma tupla em lista**"
      ]
    },
    {
      "cell_type": "code",
      "metadata": {
        "colab": {
          "base_uri": "https://localhost:8080/"
        },
        "id": "S0n-8-Xp5xqs",
        "outputId": "ba49a258-2f35-4b7b-9135-058283f45e92"
      },
      "source": [
        "nova_lista = list(tupla)\n",
        "nova_lista"
      ],
      "execution_count": null,
      "outputs": [
        {
          "output_type": "execute_result",
          "data": {
            "text/plain": [
              "[5, 9, 8, 52, 65, 13]"
            ]
          },
          "metadata": {
            "tags": []
          },
          "execution_count": 53
        }
      ]
    },
    {
      "cell_type": "code",
      "metadata": {
        "colab": {
          "base_uri": "https://localhost:8080/"
        },
        "id": "AHCPP3il53kM",
        "outputId": "a12c448e-89d3-4180-a8d7-14628660541f"
      },
      "source": [
        "#testando a funcionalidade da lista\n",
        "nova_lista [0] = 4\n",
        "nova_lista"
      ],
      "execution_count": null,
      "outputs": [
        {
          "output_type": "execute_result",
          "data": {
            "text/plain": [
              "[4, 9, 8, 52, 65, 13]"
            ]
          },
          "metadata": {
            "tags": []
          },
          "execution_count": 54
        }
      ]
    },
    {
      "cell_type": "markdown",
      "metadata": {
        "id": "zkeT0CSN6du8"
      },
      "source": [
        "##Dicionários\n",
        "\n",
        "- Um dicionário é uma coleção de elementos que possuem uma *chave* e um *valor*\n",
        "- Ao invés de um índice, usamos a *chave* para recuperar um *valor*\n",
        "\n",
        "Assim, o principal propósito de um dicionário é associar um valor (value) a uma chave (key)"
      ]
    },
    {
      "cell_type": "markdown",
      "metadata": {
        "id": "6w4oByOR_CX3"
      },
      "source": [
        "**Criando dicionários**"
      ]
    },
    {
      "cell_type": "code",
      "metadata": {
        "colab": {
          "base_uri": "https://localhost:8080/"
        },
        "id": "2wZ9nomP_Ilw",
        "outputId": "63b4056e-5c5a-4e81-9cf2-93daa44823d7"
      },
      "source": [
        "# Criando dicionários com pares chave/valor\n",
        "\n",
        "# Dicionário de estados: chave é a sigla do estado e valor é o nome completo\n",
        "dic_estados= {'MG':'Minas Gerais','PR':'Paran','BA':'Bahia','RN':'Rio Grande do Norte', 'SP': 'São Paulo' }\n",
        "\n",
        "## Obs: o nome do estado do Paraná foi digitado errado de forma intencional\n",
        "dic_estados"
      ],
      "execution_count": null,
      "outputs": [
        {
          "output_type": "execute_result",
          "data": {
            "text/plain": [
              "{'BA': 'Bahia',\n",
              " 'MG': 'Minas Gerais',\n",
              " 'PR': 'Paran',\n",
              " 'RN': 'Rio Grande do Norte',\n",
              " 'SP': 'São Paulo'}"
            ]
          },
          "metadata": {
            "tags": []
          },
          "execution_count": 55
        }
      ]
    },
    {
      "cell_type": "code",
      "metadata": {
        "colab": {
          "base_uri": "https://localhost:8080/"
        },
        "id": "AifL3P3RAziW",
        "outputId": "e35abef6-1d36-4920-a277-8f0f5ee9d102"
      },
      "source": [
        "# Dicionário de produtos: chave é o código e valor é a descrição do produto\n",
        "dic_produtos = {1215:\"Lápis\", 3221:\"Caneta\", 2329:\"Borracha\", 1092:\"Caderno\", 7633:\"Cola\"}\n",
        "dic_produtos"
      ],
      "execution_count": null,
      "outputs": [
        {
          "output_type": "execute_result",
          "data": {
            "text/plain": [
              "{1092: 'Caderno',\n",
              " 1215: 'Lápis',\n",
              " 2329: 'Borracha',\n",
              " 3221: 'Caneta',\n",
              " 7633: 'Cola'}"
            ]
          },
          "metadata": {
            "tags": []
          },
          "execution_count": 56
        }
      ]
    },
    {
      "cell_type": "code",
      "metadata": {
        "colab": {
          "base_uri": "https://localhost:8080/"
        },
        "id": "iqGDJkmABDH3",
        "outputId": "c0b7429d-8bf6-40db-d6ae-96d963f7ebcc"
      },
      "source": [
        "# Dicionário de alunos: chave é o nome e valor é uma lista com 3 notas do aluno\n",
        "dic_notas_alunos = {\"João\":[6, 8, 4], \"Maria\": [10, 9, 10], \"José\": [8, 9.5, 7]}\n",
        "dic_notas_alunos"
      ],
      "execution_count": null,
      "outputs": [
        {
          "output_type": "execute_result",
          "data": {
            "text/plain": [
              "{'José': [8, 9.5, 7], 'João': [6, 8, 4], 'Maria': [10, 9, 10]}"
            ]
          },
          "metadata": {
            "tags": []
          },
          "execution_count": 57
        }
      ]
    },
    {
      "cell_type": "code",
      "metadata": {
        "colab": {
          "base_uri": "https://localhost:8080/"
        },
        "id": "CvPY6TlaBMKl",
        "outputId": "ac5bbdfd-173b-4652-c1a1-d3bd5907ab4c"
      },
      "source": [
        "# Dicionário de alunos 2: chave é o nome e valor é um outro dicionário contendo as 3 notas do aluno\n",
        "dic_notas_alunos2 = {\"João\": {\"nota1\": 6, \"nota2\": 8, \"nota3\": 4}, \n",
        "                     \"Maria\": {\"nota1\": 10, \"nota2\": 9, \"nota3\": 10}, \n",
        "                     \"José\": {\"nota1\": 8, \"nota2\": 9.5, \"nota3\": 7},}\n",
        "dic_notas_alunos2"
      ],
      "execution_count": null,
      "outputs": [
        {
          "output_type": "execute_result",
          "data": {
            "text/plain": [
              "{'José': {'nota1': 8, 'nota2': 9.5, 'nota3': 7},\n",
              " 'João': {'nota1': 6, 'nota2': 8, 'nota3': 4},\n",
              " 'Maria': {'nota1': 10, 'nota2': 9, 'nota3': 10}}"
            ]
          },
          "metadata": {
            "tags": []
          },
          "execution_count": 58
        }
      ]
    },
    {
      "cell_type": "markdown",
      "metadata": {
        "id": "B_r6wvv0Badv"
      },
      "source": [
        "**Acessando um valor em um dicionário através de uma chave**"
      ]
    },
    {
      "cell_type": "code",
      "metadata": {
        "colab": {
          "base_uri": "https://localhost:8080/",
          "height": 35
        },
        "id": "x_NUBZvoBf_H",
        "outputId": "371a0291-a414-4feb-8be7-90b403a2d36c"
      },
      "source": [
        "# Acessando o valor associado à chave \"MG\"\n",
        "dic_estados['MG']"
      ],
      "execution_count": null,
      "outputs": [
        {
          "output_type": "execute_result",
          "data": {
            "application/vnd.google.colaboratory.intrinsic+json": {
              "type": "string"
            },
            "text/plain": [
              "'Minas Gerais'"
            ]
          },
          "metadata": {
            "tags": []
          },
          "execution_count": 59
        }
      ]
    },
    {
      "cell_type": "code",
      "metadata": {
        "colab": {
          "base_uri": "https://localhost:8080/",
          "height": 35
        },
        "id": "NtCBervOBh_v",
        "outputId": "dd8bf638-92bc-4416-ce89-11104aa4c4cf"
      },
      "source": [
        "# Acessando o valor associado à chave 2329\n",
        "dic_produtos[2329]"
      ],
      "execution_count": null,
      "outputs": [
        {
          "output_type": "execute_result",
          "data": {
            "application/vnd.google.colaboratory.intrinsic+json": {
              "type": "string"
            },
            "text/plain": [
              "'Borracha'"
            ]
          },
          "metadata": {
            "tags": []
          },
          "execution_count": 60
        }
      ]
    },
    {
      "cell_type": "markdown",
      "metadata": {
        "id": "KSdhm9iCBmEW"
      },
      "source": [
        "Acessando a nota da primeira prova do João no dicionário dic_notas_alunos2"
      ]
    },
    {
      "cell_type": "code",
      "metadata": {
        "colab": {
          "base_uri": "https://localhost:8080/"
        },
        "id": "-_pWWogKBm0X",
        "outputId": "8dae1faf-c0d2-47fe-80a2-d10fe321972e"
      },
      "source": [
        "dic_notas_alunos2['João']['nota1']"
      ],
      "execution_count": null,
      "outputs": [
        {
          "output_type": "execute_result",
          "data": {
            "text/plain": [
              "6"
            ]
          },
          "metadata": {
            "tags": []
          },
          "execution_count": 61
        }
      ]
    },
    {
      "cell_type": "markdown",
      "metadata": {
        "id": "mQIOj8nPBzQ_"
      },
      "source": [
        "**Alterando valores em dicionários**"
      ]
    },
    {
      "cell_type": "code",
      "metadata": {
        "colab": {
          "base_uri": "https://localhost:8080/"
        },
        "id": "41pdJlD7BztO",
        "outputId": "aacd8baa-0cf3-489c-f54d-1dc437b7c7f3"
      },
      "source": [
        "# Corrigindo o nome do estado do Paraná\n",
        "dic_estados[\"PR\"] = \"Paraná\"\n",
        "dic_estados"
      ],
      "execution_count": null,
      "outputs": [
        {
          "output_type": "execute_result",
          "data": {
            "text/plain": [
              "{'BA': 'Bahia',\n",
              " 'MG': 'Minas Gerais',\n",
              " 'PR': 'Paraná',\n",
              " 'RN': 'Rio Grande do Norte',\n",
              " 'SP': 'São Paulo'}"
            ]
          },
          "metadata": {
            "tags": []
          },
          "execution_count": 62
        }
      ]
    },
    {
      "cell_type": "markdown",
      "metadata": {
        "id": "9C-r7fqKB4xK"
      },
      "source": [
        "**Principais métodos de um objeto dicionário**\n",
        "\n",
        "Método | Descrição | Exemplo\n",
        ":----- | :-------- | :------\n",
        "clear  | Apaga todos os elementos de um dicionário | `dic.clear()`\n",
        "copy | Retorna uma cópia dos elementos de um dicionário | `dic_copia = dic.copy()`\n",
        "fromkeys | Retorna um dicionário a partir de uma sequência de chaves | `exemplo = dic.fromkeys({\"k1\", \"k4\", \"k5\"})`\n",
        "get | Retorna o valor associado a uma chave | `dic.get(\"k1\")`\n",
        " |  | `dic.get(\"k1\", 0)`\n",
        "items | Retorna uma visão dos pares chave/valor de um dicionário | `dic.items()`\n",
        "keys | Retorna uma visão das chaves de um dicionário | `dic.keys()`\n",
        "pop | Remove e retorna o elemento associado à chave passada por parâmetro (provoca erro se a chave não existir) | `dic.pop(2)`\n",
        "popitem | Remove e retorna o último elemento adicionado ao dicionário | `dic.popitem()`\n",
        "setdefault | Retorna o valor associado a uma chave (se a chave existir). Caso não exista, insere a chave com o valor (opcional) no dicionário | `dic.setdefault(2, \"dois\")`\n",
        "update | Adiciona ao dicionário os pares de chave/valor de outro dicionário passado por parâmetro | `dic.update(dic2)`\n",
        "values | Retorna uma visão dos valores de um dicionário | `dic.values`"
      ]
    },
    {
      "cell_type": "code",
      "metadata": {
        "colab": {
          "base_uri": "https://localhost:8080/"
        },
        "id": "gKqX0MeDDIVn",
        "outputId": "c3c6c59a-11c6-4ee5-d6c3-5ebc914ceb54"
      },
      "source": [
        "dic_estados.items()"
      ],
      "execution_count": null,
      "outputs": [
        {
          "output_type": "execute_result",
          "data": {
            "text/plain": [
              "dict_items([('MG', 'Minas Gerais'), ('PR', 'Paraná'), ('BA', 'Bahia'), ('RN', 'Rio Grande do Norte'), ('SP', 'São Paulo')])"
            ]
          },
          "metadata": {
            "tags": []
          },
          "execution_count": 63
        }
      ]
    },
    {
      "cell_type": "markdown",
      "metadata": {
        "id": "2SiwlSVTDKsH"
      },
      "source": [
        "###Desafio\n",
        "\n",
        "1. Crie um dicionário **filmes_dic** contendo os seguintes nomes de filmes como **chave** (key): As Branquelas, Vovózona, Meninas Malvadas. Como **valor** (value), busque o ano que os filmes foram lançados. \n",
        "2. Crie um outro dicionários chamados **filmes_dic2** contendo os filmes Divertidamente e O Show de Truman e os anos que foram lançados e com o comando update atualize o dicionários filmes_dic."
      ]
    },
    {
      "cell_type": "code",
      "metadata": {
        "colab": {
          "base_uri": "https://localhost:8080/"
        },
        "id": "zBW1eAr_DSO3",
        "outputId": "5dc917cf-7392-4e4b-8945-0a04dacfa1de"
      },
      "source": [
        "filmes_dic = {\"As Branquelas\": 2004,\"Vovózona\": 2000,\"Meninas Malvadas\": 2004}\n",
        "filmes_dic"
      ],
      "execution_count": null,
      "outputs": [
        {
          "output_type": "execute_result",
          "data": {
            "text/plain": [
              "{'As Branquelas': 2004, 'Meninas Malvadas': 2004, 'Vovózona': 2000}"
            ]
          },
          "metadata": {
            "tags": []
          },
          "execution_count": 64
        }
      ]
    },
    {
      "cell_type": "code",
      "metadata": {
        "colab": {
          "base_uri": "https://localhost:8080/"
        },
        "id": "-Zeyfe36D8mh",
        "outputId": "dc85c307-df7c-458e-98b9-4ee545379b04"
      },
      "source": [
        "filmes_dic2 = {\"Divertidamente\": 2015,\"O Show de Truman\": 1998}\n",
        "filmes_dic.update(filmes_dic2)\n",
        "filmes_dic"
      ],
      "execution_count": null,
      "outputs": [
        {
          "output_type": "execute_result",
          "data": {
            "text/plain": [
              "{'As Branquelas': 2004,\n",
              " 'Divertidamente': 2015,\n",
              " 'Meninas Malvadas': 2004,\n",
              " 'O Show de Truman': 1998,\n",
              " 'Vovózona': 2000}"
            ]
          },
          "metadata": {
            "tags": []
          },
          "execution_count": 66
        }
      ]
    }
  ]
}